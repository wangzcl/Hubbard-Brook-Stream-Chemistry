{
 "cells": [
  {
   "cell_type": "markdown",
   "metadata": {},
   "source": [
    "# Load Dependecies and Hubbard Brook Info File"
   ]
  },
  {
   "cell_type": "code",
   "execution_count": null,
   "metadata": {},
   "outputs": [],
   "source": [
    "import os\n",
    "import random\n",
    "import shelve, pickle\n",
    "import warnings\n",
    "from datetime import datetime\n",
    "import numpy as np\n",
    "import pandas as pd\n",
    "from scipy.stats import describe\n",
    "from sklearn.decomposition import PCA, NMF\n",
    "import matplotlib.pyplot as plt\n",
    "import seaborn as sns; sns.set_theme()\n",
    "%matplotlib widget\n",
    "\n",
    "import hb_dic, nmf_utils"
   ]
  },
  {
   "cell_type": "code",
   "execution_count": null,
   "metadata": {},
   "outputs": [],
   "source": [
    "import json\n",
    "\n",
    "with open(\"hbinfo.json\", \"r\") as f:\n",
    "    hb_config = json.load(f)\n",
    "del f\n",
    "\n",
    "hb_config"
   ]
  },
  {
   "cell_type": "markdown",
   "metadata": {},
   "source": [
    "# NMF for a Single Watershed (Example)"
   ]
  },
  {
   "cell_type": "markdown",
   "metadata": {},
   "source": [
    "## Load Data and Configurations\n",
    "\n",
    "Load data as ``pd.DataFrame``, and then select interested time range. "
   ]
  },
  {
   "cell_type": "code",
   "execution_count": null,
   "metadata": {},
   "outputs": [],
   "source": [
    "watershed = hb_config[\"biogeochem_ref_watershed\"]\n",
    "species = [\"DIC\", \"Ca\", \"Mg\", \"K\", \"Na\", \"SO4\", \"Cl\", \"NO3\", \"SiO2\"]\n",
    "normalizer = \"Na\"\n",
    "bootstrap = 2000\n",
    "random_seed = 42\n",
    "\n",
    "nmf_config = dict(\n",
    "    init=\"random\",\n",
    "    random_state=random_seed,\n",
    "    max_iter=10000,\n",
    "    tol=1e-6,\n",
    ")\n",
    "\n",
    "multinmf_config = dict(\n",
    "    nmf_type=nmf_utils.TrivialRescaledNMF,\n",
    "    n_runs=20000,\n",
    ")\n",
    "n_selected = 50\n",
    "\n",
    "heatmap_fig_config = dict(\n",
    "    figsize=(8, 4),\n",
    "    constrained_layout=True,\n",
    ")\n",
    "\n",
    "df = hb_dic.load_watershed_data(watershed, species)\n",
    "df = df[\"2000\":]  # Shaughnessy et al use 2000-2017"
   ]
  },
  {
   "cell_type": "markdown",
   "metadata": {},
   "source": [
    "## Data Preprocessing\n",
    "1. Drop rows with any missing values\n",
    "2. Convert weight to molar mass\n",
    "3. Normalize the dataframe with an assigned column (default \"Na\"), and drop that column\n",
    "4. Divide each row "
   ]
  },
  {
   "cell_type": "code",
   "execution_count": null,
   "metadata": {},
   "outputs": [],
   "source": [
    "preprocessor = nmf_utils.NMFPreprocessor(\n",
    "    normalizer=\"Na\", bootstrap=bootstrap, bootstrap_random_state=random_seed\n",
    ")\n",
    "V = preprocessor.transform(df)"
   ]
  },
  {
   "cell_type": "markdown",
   "metadata": {},
   "source": [
    "## PCA"
   ]
  },
  {
   "cell_type": "code",
   "execution_count": null,
   "metadata": {},
   "outputs": [],
   "source": [
    "pca = PCA()\n",
    "pca.fit(V)\n",
    "print(\"Explained varience ratio:\", pca.explained_variance_ratio_, sep=\"\\n\")\n",
    "n_endmember = nmf_utils.count_endmember(pca)\n",
    "print(\"Endmember number (explain >90% ratio):\", n_endmember)"
   ]
  },
  {
   "cell_type": "code",
   "execution_count": null,
   "metadata": {},
   "outputs": [],
   "source": [
    "nmf = nmf_utils.TrivialRescaledNMF(\n",
    "    n_components=n_endmember,\n",
    "    **nmf_config\n",
    ")\n",
    "\n",
    "# mixing proportion\n",
    "W = nmf.fit_transform(V)\n",
    "# chemical signature\n",
    "H = nmf.components_\n",
    "H = pd.DataFrame(H, columns=V.columns)"
   ]
  },
  {
   "cell_type": "code",
   "execution_count": null,
   "metadata": {},
   "outputs": [],
   "source": [
    "plt.figure(**heatmap_fig_config)\n",
    "heatmap = nmf_utils.ChemistryHeatmap()\n",
    "heatmap.plot(H, V.columns)"
   ]
  },
  {
   "cell_type": "markdown",
   "metadata": {},
   "source": [
    "## MultiNMF"
   ]
  },
  {
   "cell_type": "code",
   "execution_count": null,
   "metadata": {},
   "outputs": [],
   "source": [
    "warnings.filterwarnings(\"ignore\")\n",
    "multi_nmf = nmf_utils.MinStdPickedNMF(\n",
    "    n_selected=n_selected,\n",
    "    n_components=n_endmember,\n",
    "    **multinmf_config,\n",
    "    **nmf_config,\n",
    ")\n",
    "Hs = multi_nmf.fit_transform(V)\n",
    "warnings.resetwarnings()"
   ]
  },
  {
   "cell_type": "code",
   "execution_count": null,
   "metadata": {},
   "outputs": [],
   "source": [
    "permuter = nmf_utils.NMFKmeansPermuter(n_endmember=n_endmember)\n",
    "\n",
    "permuter.fit_transform(Hs, inplace=True)\n",
    "labels = permuter.labels_\n",
    "H_mean = pd.DataFrame(Hs.mean(axis=0), columns=V.columns)\n",
    "H_mean *= preprocessor.scaler_"
   ]
  },
  {
   "cell_type": "markdown",
   "metadata": {},
   "source": [
    "## Save Data and Figure"
   ]
  },
  {
   "cell_type": "code",
   "execution_count": null,
   "metadata": {},
   "outputs": [],
   "source": [
    "timestamp = datetime.now().strftime(\"%Y%m%d_%H%M%S\")\n",
    "new_dir = \"../models/output/{}/\".format(timestamp)\n",
    "os.mkdir(new_dir)\n",
    "\n",
    "config_dict = dict(\n",
    "    watershed=watershed,\n",
    "    species=species,\n",
    "    normalizer=normalizer,\n",
    "    bootstrap=bootstrap,\n",
    "    random_seed=random_seed,\n",
    "    n_endmember=n_endmember,\n",
    "    nmf_config=nmf_config,\n",
    "    n_multinmf=multinmf_config[\"n_runs\"],\n",
    "    n_selected=n_selected,\n",
    "    heatmap_fig_config=heatmap_fig_config,\n",
    "    timestamp=timestamp,\n",
    ")\n",
    "\n",
    "with open(new_dir + \"meta.txt\", \"w\") as f:\n",
    "    json.dump(config_dict, f)\n",
    "\n",
    "with shelve.open(new_dir + \"data\") as db:\n",
    "    db[\"raw\"] = Hs\n",
    "    db[\"mean\"] = H_mean\n",
    "\n",
    "plt.figure(**heatmap_fig_config)\n",
    "heatmap = nmf_utils.ChemistryHeatmap()\n",
    "for i, H in enumerate(Hs):\n",
    "    heatmap.plot(H, V.columns)\n",
    "    plt.savefig(new_dir + \"heatmap_{}.png\".format(i))\n",
    "    plt.clf()\n",
    "heatmap.plot(H_mean, H.columns)\n",
    "plt.savefig(new_dir + \"heatmap_mean.svg\")\n"
   ]
  },
  {
   "cell_type": "code",
   "execution_count": null,
   "metadata": {},
   "outputs": [],
   "source": [
    "def filter_sample(v, w, h, idx, lower_bound=0.9, upper_bound=1.1):\n",
    "    sample_data = v.iloc[idx]\n",
    "    sample_proportion = w[idx]\n",
    "\n",
    "    accepted = lower_bound <= sum(sample_proportion) <= upper_bound\n",
    "    err = None\n",
    "    if accepted:\n",
    "        err = np.sum(sample_data - np.dot(sample_proportion, h))\n",
    "    return accepted, err"
   ]
  }
 ],
 "metadata": {
  "kernelspec": {
   "display_name": ".venv",
   "language": "python",
   "name": "python3"
  },
  "language_info": {
   "codemirror_mode": {
    "name": "ipython",
    "version": 3
   },
   "file_extension": ".py",
   "mimetype": "text/x-python",
   "name": "python",
   "nbconvert_exporter": "python",
   "pygments_lexer": "ipython3",
   "version": "3.12.0"
  }
 },
 "nbformat": 4,
 "nbformat_minor": 2
}
