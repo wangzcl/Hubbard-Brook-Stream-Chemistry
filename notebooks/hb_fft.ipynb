{
 "cells": [
  {
   "cell_type": "code",
   "execution_count": 1,
   "metadata": {},
   "outputs": [],
   "source": [
    "import numpy as np\n",
    "import pandas as pd\n",
    "import matplotlib.pyplot as plt\n",
    "%matplotlib widget\n",
    "\n",
    "import sys\n",
    "sys.path.append(\"../src/\")\n",
    "import hb_dic, fft_utils"
   ]
  },
  {
   "cell_type": "markdown",
   "metadata": {},
   "source": [
    "# Single Watershed Analysis"
   ]
  },
  {
   "cell_type": "markdown",
   "metadata": {},
   "source": [
    "## Load Data and Preprocessing\n",
    "\n",
    "Hubbard Brook weekly stream chemistry DIC data (Unit: mmol/L)\n",
    "\n",
    "Data is available for W6 from 01/03/1994, and for other watersheds W1~W9 from 05/28/1996\n",
    "\n",
    "Data for HBK(?) is available in a monthly resolution from 06/17/1996, so does W101(?) but from 07/14/1997, and ML70(?) with a weekly resolution from 06/03/2013"
   ]
  },
  {
   "cell_type": "code",
   "execution_count": 2,
   "metadata": {},
   "outputs": [],
   "source": [
    "watershed = \"W{}\".format(2) # take watershed 2 as an example because the data quality is good\n",
    "dic_series = hb_dic.load_dic(watershed)\n",
    "dic_series = hb_dic.clean_dic_series(dic_series)"
   ]
  },
  {
   "cell_type": "markdown",
   "metadata": {},
   "source": [
    "## Plot Original Time Series\n",
    "\n",
    "Peak in summer and fall (W2, 2005)"
   ]
  },
  {
   "cell_type": "code",
   "execution_count": null,
   "metadata": {},
   "outputs": [],
   "source": [
    "plt.figure()\n",
    "dic_series.plot()"
   ]
  },
  {
   "cell_type": "markdown",
   "metadata": {},
   "source": [
    "## Fourier Transformation\n",
    "\n",
    "Fourier Power spectrum, largest peak at about one year, which means the annual cycle is the dominant component."
   ]
  },
  {
   "cell_type": "code",
   "execution_count": null,
   "metadata": {},
   "outputs": [],
   "source": [
    "power_specturm = fft_utils.spectrum(dic_series)\n",
    "plt.figure()\n",
    "plt.stem(power_specturm.index, power_specturm, markerfmt=\"\", basefmt=\"C0-\")\n",
    "plt.xscale(\"log\")\n",
    "plt.xlabel(\"Period (Week)\")\n",
    "plt.ylabel(\"Normalized Power\");"
   ]
  },
  {
   "cell_type": "markdown",
   "metadata": {},
   "source": [
    "# Compare Watersheds"
   ]
  },
  {
   "cell_type": "code",
   "execution_count": null,
   "metadata": {},
   "outputs": [],
   "source": [
    "series_fig, sfaxs = plt.subplots(3, 3, figsize=(16, 12))\n",
    "spectrum_fig, spaxs = plt.subplots(3, 3, figsize=(16, 12),subplot_kw={\"xlabel\":\"Period (Week)\",\"ylabel\":\"Normalized Power\",\"xscale\":\"log\"})\n",
    "\n",
    "for i in range(9):\n",
    "    watershed = \"W{}\".format(i+1)\n",
    "    # load data\n",
    "    dic_series = hb_dic.load_dic(watershed)\n",
    "    # preprocess data\n",
    "    dic_series = hb_dic.clean_dic_series(dic_series)\n",
    "    # plot original time series\n",
    "    plt.sca(sfaxs.flat[i])\n",
    "    dic_series.plot(ylabel=\"DIC (mmol/L)\", title=watershed)\n",
    "    # fft\n",
    "    power_specturm = fft_utils.spectrum(dic_series)\n",
    "    plt.sca(spaxs.flat[i])\n",
    "    plt.stem(power_specturm.index, power_specturm, markerfmt=\"\", basefmt=\"C0-\")\n",
    "    plt.title(watershed)\n",
    "\n",
    "plt.show()\n",
    "    "
   ]
  }
 ],
 "metadata": {
  "kernelspec": {
   "display_name": ".venv",
   "language": "python",
   "name": "python3"
  },
  "language_info": {
   "codemirror_mode": {
    "name": "ipython",
    "version": 3
   },
   "file_extension": ".py",
   "mimetype": "text/x-python",
   "name": "python",
   "nbconvert_exporter": "python",
   "pygments_lexer": "ipython3",
   "version": "3.12.0"
  }
 },
 "nbformat": 4,
 "nbformat_minor": 2
}
